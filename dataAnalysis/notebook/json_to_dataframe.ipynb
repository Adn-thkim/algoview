{
 "cells": [
  {
   "cell_type": "code",
   "execution_count": 3,
   "id": "9e8bc0b6-87e2-43ab-a882-22d90ac2a7d1",
   "metadata": {},
   "outputs": [
    {
     "name": "stdout",
     "output_type": "stream",
     "text": [
      "예외 처리 전 json 파일 길이:  543\n",
      "예외 처리 후 json 파일 길이:  539\n"
     ]
    }
   ],
   "source": [
    "import os\n",
    "from os.path import join\n",
    "import pandas as pd\n",
    "import numpy as np\n",
    "import json\n",
    "\n",
    "\n",
    "path = join(os.getcwd().replace(\"notebook\", \"macro\") +  \"/data.json\")\n",
    "f = open(path) # json file 불러오기\n",
    "data_json = json.load(f)\n",
    "\n",
    "\n",
    "err_lst = [\"Lv1_프로그래머스_행렬의덧셈_구현_지현.js\", # 1차 cycle 예외 처리 (파일명 오류, 개선 될 예정)\n",
    "           \"Lv0_0000_뒤에서 5등까지_구현_수정.js\",\n",
    "           \"Lv0_0000_특정 문자열로 끝나는 가장 긴 부분 문자열 찾기_구현_수정.js\",\n",
    "           \"Lv0_0000_자릿수더하기_구현_지현.js\"]\n",
    "\n",
    "print(\"예외 처리 전 json 파일 길이: \",len(data_json))\n",
    "for error_file in err_lst: # 1차 cycle 예외 처리 (파일명 오류, 개선 될 예정)\n",
    "    del data_json[error_file]\n",
    "print(\"예외 처리 후 json 파일 길이: \", len(data_json))\n",
    "\n",
    "\n",
    "data_df = pd.DataFrame() # empty DataFrame\n",
    "\n",
    "# json_normalize 사용 불가\n",
    "## 따라서 methodcount 와 method명을 분리하기 위함\n",
    "# for file_name in pd.DataFrame(data_json).loc[[\"countmethod\"],:].index:\n",
    "for file_name in data_json.keys():\n",
    "    tmp_df = pd.DataFrame(data_json[file_name])\n",
    "    tmp_df = tmp_df.reset_index()\n",
    "    data_df = pd.concat([data_df, tmp_df], axis = 0) \n",
    "\n",
    "data_df = data_df.reset_index(drop = True).rename(columns = {\"index\" : \"function_method\"}) # method명 column으로 변환\n",
    "data_df = data_df[['file_name', 'level', 'year', 'company_name','problem_name', 'problem_type', # column 순서 재배치\n",
    "                   'function_method', 'countmethod', 'line_count', 'module', 'code']]\n"
   ]
  }
 ],
 "metadata": {
  "kernelspec": {
   "display_name": "Python 3 (ipykernel)",
   "language": "python",
   "name": "python3"
  },
  "language_info": {
   "codemirror_mode": {
    "name": "ipython",
    "version": 3
   },
   "file_extension": ".py",
   "mimetype": "text/x-python",
   "name": "python",
   "nbconvert_exporter": "python",
   "pygments_lexer": "ipython3",
   "version": "3.9.12"
  }
 },
 "nbformat": 4,
 "nbformat_minor": 5
}
